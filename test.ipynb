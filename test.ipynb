{
 "cells": [
  {
   "cell_type": "code",
   "execution_count": 1,
   "id": "7271245d",
   "metadata": {},
   "outputs": [],
   "source": [
    "from main import ExpectimaxOptimizer\n",
    "from heuristic import Heuristic\n",
    "from puzzle import GameSimulator"
   ]
  },
  {
   "cell_type": "code",
   "execution_count": 2,
   "id": "e493f3a0",
   "metadata": {},
   "outputs": [
    {
     "name": "stdout",
     "output_type": "stream",
     "text": [
      "Played 100 games. Won 86 times. Win percentage: 86.00%\n",
      "Reached 2048: 86 times. Percentage: 86.00%\n",
      "Reached 4096: 26 times. Percentage: 26.00%\n",
      "Reached 8192: 1 times. Percentage: 1.00%\n",
      "Max score: 128920\n",
      "Average score: 38772.64\n"
     ]
    },
    {
     "data": {
      "text/plain": [
       "(86.0, 128920, 38772.64, 86.0, 26.0)"
      ]
     },
     "execution_count": 2,
     "metadata": {},
     "output_type": "execute_result"
    }
   ],
   "source": [
    "heuristic_obj = Heuristic([1,1])\n",
    "optimizer = ExpectimaxOptimizer(heuristic_func=heuristic_obj)\n",
    "simulator = GameSimulator(num_games=100, expectimax_func=optimizer.expectimax, depth_limit=2)\n",
    "simulator.run_simulation_parallel(num_jobs=-1)"
   ]
  },
  {
   "cell_type": "code",
   "execution_count": null,
   "id": "bc287ef3",
   "metadata": {},
   "outputs": [
    {
     "name": "stdout",
     "output_type": "stream",
     "text": [
      "Played 10 games. Won 8 times. Win percentage: 80.00%\n",
      "Reached 2048: 8 times. Percentage: 80.00%\n",
      "Reached 4096: 4 times. Percentage: 40.00%\n",
      "Reached 8192: 1 times. Percentage: 10.00%\n",
      "Max score: 123724\n",
      "Average score: 50913.60\n"
     ]
    },
    {
     "data": {
      "text/plain": [
       "(80.0, 123724, 50913.6, 80.0, 40.0)"
      ]
     },
     "execution_count": 3,
     "metadata": {},
     "output_type": "execute_result"
    }
   ],
   "source": [
    "heuristic_obj = Heuristic([1,1])\n",
    "optimizer = ExpectimaxOptimizer(heuristic_func=heuristic_obj)\n",
    "simulator = GameSimulator(num_games=100, expectimax_func=optimizer.expectimax, depth_limit=3)\n",
    "simulator.run_simulation_parallel(num_jobs=-1)"
   ]
  }
 ],
 "metadata": {
  "kernelspec": {
   "display_name": "base",
   "language": "python",
   "name": "python3"
  },
  "language_info": {
   "codemirror_mode": {
    "name": "ipython",
    "version": 3
   },
   "file_extension": ".py",
   "mimetype": "text/x-python",
   "name": "python",
   "nbconvert_exporter": "python",
   "pygments_lexer": "ipython3",
   "version": "3.12.3"
  }
 },
 "nbformat": 4,
 "nbformat_minor": 5
}
